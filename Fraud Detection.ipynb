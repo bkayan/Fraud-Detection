{
 "cells": [
  {
   "cell_type": "markdown",
   "metadata": {},
   "source": [
    "## Fraud Detection"
   ]
  },
  {
   "cell_type": "markdown",
   "metadata": {},
   "source": [
    "Kaggle dataset: https://www.kaggle.com/c/ieee-fraud-detection/data"
   ]
  },
  {
   "cell_type": "code",
   "execution_count": 1,
   "metadata": {},
   "outputs": [],
   "source": [
    "import numpy as np\n",
    "import pandas as pd\n",
    "\n",
    "import sklearn as sk\n",
    "from sklearn.preprocessing import scale\n",
    "\n",
    "import matplotlib.pyplot as plt"
   ]
  },
  {
   "cell_type": "markdown",
   "metadata": {},
   "source": [
    "Load train and test data"
   ]
  },
  {
   "cell_type": "code",
   "execution_count": 2,
   "metadata": {},
   "outputs": [],
   "source": [
    "test_id = pd.read_csv('test_identity.csv', low_memory=False)\n",
    "train_id =  pd.read_csv('train_identity.csv', low_memory=False)\n",
    "\n",
    "test_trans = pd.read_csv('test_transaction.csv', low_memory=False)\n",
    "train_trans =  pd.read_csv('train_transaction.csv', low_memory=False)\n"
   ]
  },
  {
   "cell_type": "code",
   "execution_count": 3,
   "metadata": {},
   "outputs": [
    {
     "name": "stdout",
     "output_type": "stream",
     "text": [
      "train identity count 144233\n",
      "train transaction count 590540\n",
      "__________________________________\n",
      "test identity count 141907\n",
      "test transaction count 506691\n"
     ]
    }
   ],
   "source": [
    "print('train identity count',len(train_id))\n",
    "print('train transaction count',len(train_trans))\n",
    "print('__________________________________')\n",
    "print('test identity count', len(test_id))\n",
    "print('test transaction count',len(test_trans))\n"
   ]
  },
  {
   "cell_type": "code",
   "execution_count": 4,
   "metadata": {},
   "outputs": [
    {
     "name": "stdout",
     "output_type": "stream",
     "text": [
      "   TransactionID  isFraud  TransactionDT  TransactionAmt ProductCD  card1  \\\n",
      "0        2987000        0          86400            68.5         W  13926   \n",
      "1        2987001        0          86401            29.0         W   2755   \n",
      "2        2987002        0          86469            59.0         W   4663   \n",
      "3        2987003        0          86499            50.0         W  18132   \n",
      "4        2987004        0          86506            50.0         H   4497   \n",
      "\n",
      "   card2  card3       card4  card5  ... V330  V331  V332  V333  V334 V335  \\\n",
      "0    NaN  150.0    discover  142.0  ...  NaN   NaN   NaN   NaN   NaN  NaN   \n",
      "1  404.0  150.0  mastercard  102.0  ...  NaN   NaN   NaN   NaN   NaN  NaN   \n",
      "2  490.0  150.0        visa  166.0  ...  NaN   NaN   NaN   NaN   NaN  NaN   \n",
      "3  567.0  150.0  mastercard  117.0  ...  NaN   NaN   NaN   NaN   NaN  NaN   \n",
      "4  514.0  150.0  mastercard  102.0  ...  0.0   0.0   0.0   0.0   0.0  0.0   \n",
      "\n",
      "  V336  V337  V338  V339  \n",
      "0  NaN   NaN   NaN   NaN  \n",
      "1  NaN   NaN   NaN   NaN  \n",
      "2  NaN   NaN   NaN   NaN  \n",
      "3  NaN   NaN   NaN   NaN  \n",
      "4  0.0   0.0   0.0   0.0  \n",
      "\n",
      "[5 rows x 394 columns]\n"
     ]
    }
   ],
   "source": [
    "print(train_trans.head())"
   ]
  },
  {
   "cell_type": "code",
   "execution_count": 5,
   "metadata": {},
   "outputs": [
    {
     "name": "stdout",
     "output_type": "stream",
     "text": [
      "   TransactionID  id_01     id_02  id_03  id_04  id_05  id_06  id_07  id_08  \\\n",
      "0        2987004    0.0   70787.0    NaN    NaN    NaN    NaN    NaN    NaN   \n",
      "1        2987008   -5.0   98945.0    NaN    NaN    0.0   -5.0    NaN    NaN   \n",
      "2        2987010   -5.0  191631.0    0.0    0.0    0.0    0.0    NaN    NaN   \n",
      "3        2987011   -5.0  221832.0    NaN    NaN    0.0   -6.0    NaN    NaN   \n",
      "4        2987016    0.0    7460.0    0.0    0.0    1.0    0.0    NaN    NaN   \n",
      "\n",
      "   id_09  ...                id_31  id_32      id_33           id_34  id_35  \\\n",
      "0    NaN  ...  samsung browser 6.2   32.0  2220x1080  match_status:2      T   \n",
      "1    NaN  ...   mobile safari 11.0   32.0   1334x750  match_status:1      T   \n",
      "2    0.0  ...          chrome 62.0    NaN        NaN             NaN      F   \n",
      "3    NaN  ...          chrome 62.0    NaN        NaN             NaN      F   \n",
      "4    0.0  ...          chrome 62.0   24.0   1280x800  match_status:2      T   \n",
      "\n",
      "  id_36 id_37  id_38  DeviceType                     DeviceInfo  \n",
      "0     F     T      T      mobile  SAMSUNG SM-G892A Build/NRD90M  \n",
      "1     F     F      T      mobile                     iOS Device  \n",
      "2     F     T      T     desktop                        Windows  \n",
      "3     F     T      T     desktop                            NaN  \n",
      "4     F     T      T     desktop                          MacOS  \n",
      "\n",
      "[5 rows x 41 columns]\n"
     ]
    }
   ],
   "source": [
    "print(train_id.head())"
   ]
  },
  {
   "cell_type": "code",
   "execution_count": 6,
   "metadata": {},
   "outputs": [
    {
     "name": "stdout",
     "output_type": "stream",
     "text": [
      "TransactionID          0\n",
      "isFraud                0\n",
      "TransactionDT          0\n",
      "TransactionAmt         0\n",
      "ProductCD              0\n",
      "card1                  0\n",
      "card2               8933\n",
      "card3               1565\n",
      "card4               1577\n",
      "card5               4259\n",
      "card6               1571\n",
      "addr1              65706\n",
      "addr2              65706\n",
      "dist1             352271\n",
      "dist2             552913\n",
      "P_emaildomain      94456\n",
      "R_emaildomain     453249\n",
      "C1                     0\n",
      "C2                     0\n",
      "C3                     0\n",
      "C4                     0\n",
      "C5                     0\n",
      "C6                     0\n",
      "C7                     0\n",
      "C8                     0\n",
      "C9                     0\n",
      "C10                    0\n",
      "C11                    0\n",
      "C12                    0\n",
      "C13                    0\n",
      "                   ...  \n",
      "V310                  12\n",
      "V311                  12\n",
      "V312                  12\n",
      "V313                1269\n",
      "V314                1269\n",
      "V315                1269\n",
      "V316                  12\n",
      "V317                  12\n",
      "V318                  12\n",
      "V319                  12\n",
      "V320                  12\n",
      "V321                  12\n",
      "V322              508189\n",
      "V323              508189\n",
      "V324              508189\n",
      "V325              508189\n",
      "V326              508189\n",
      "V327              508189\n",
      "V328              508189\n",
      "V329              508189\n",
      "V330              508189\n",
      "V331              508189\n",
      "V332              508189\n",
      "V333              508189\n",
      "V334              508189\n",
      "V335              508189\n",
      "V336              508189\n",
      "V337              508189\n",
      "V338              508189\n",
      "V339              508189\n",
      "Length: 394, dtype: int64\n"
     ]
    }
   ],
   "source": [
    "print(train_trans.isnull().sum())"
   ]
  },
  {
   "cell_type": "markdown",
   "metadata": {},
   "source": [
    "There are too many null in the df. Keeping the first 10 features only."
   ]
  },
  {
   "cell_type": "code",
   "execution_count": 7,
   "metadata": {},
   "outputs": [],
   "source": [
    "train_trans_new=train_trans.iloc[:,0:10]"
   ]
  },
  {
   "cell_type": "code",
   "execution_count": 8,
   "metadata": {},
   "outputs": [
    {
     "name": "stdout",
     "output_type": "stream",
     "text": [
      "   TransactionID  isFraud  TransactionDT  TransactionAmt ProductCD  card1  \\\n",
      "0        2987000        0          86400            68.5         W  13926   \n",
      "1        2987001        0          86401            29.0         W   2755   \n",
      "2        2987002        0          86469            59.0         W   4663   \n",
      "3        2987003        0          86499            50.0         W  18132   \n",
      "4        2987004        0          86506            50.0         H   4497   \n",
      "\n",
      "   card2  card3       card4  card5  \n",
      "0    NaN  150.0    discover  142.0  \n",
      "1  404.0  150.0  mastercard  102.0  \n",
      "2  490.0  150.0        visa  166.0  \n",
      "3  567.0  150.0  mastercard  117.0  \n",
      "4  514.0  150.0  mastercard  102.0  \n"
     ]
    }
   ],
   "source": [
    "print(train_trans_new.head())"
   ]
  },
  {
   "cell_type": "code",
   "execution_count": 9,
   "metadata": {},
   "outputs": [
    {
     "name": "stdout",
     "output_type": "stream",
     "text": [
      "TransactionID         0\n",
      "id_01                 0\n",
      "id_02              3361\n",
      "id_03             77909\n",
      "id_04             77909\n",
      "id_05              7368\n",
      "id_06              7368\n",
      "id_07            139078\n",
      "id_08            139078\n",
      "id_09             69307\n",
      "id_10             69307\n",
      "id_11              3255\n",
      "id_12                 0\n",
      "id_13             16913\n",
      "id_14             64189\n",
      "id_15              3248\n",
      "id_16             14893\n",
      "id_17              4864\n",
      "id_18             99120\n",
      "id_19              4915\n",
      "id_20              4972\n",
      "id_21            139074\n",
      "id_22            139064\n",
      "id_23            139064\n",
      "id_24            139486\n",
      "id_25            139101\n",
      "id_26            139070\n",
      "id_27            139064\n",
      "id_28              3255\n",
      "id_29              3255\n",
      "id_30             66668\n",
      "id_31              3951\n",
      "id_32             66647\n",
      "id_33             70944\n",
      "id_34             66428\n",
      "id_35              3248\n",
      "id_36              3248\n",
      "id_37              3248\n",
      "id_38              3248\n",
      "DeviceType         3423\n",
      "DeviceInfo        25567\n",
      "dtype: int64\n"
     ]
    }
   ],
   "source": [
    "print(train_id.isnull().sum())"
   ]
  },
  {
   "cell_type": "markdown",
   "metadata": {},
   "source": [
    "Keeping first 2 features from the ID file."
   ]
  },
  {
   "cell_type": "code",
   "execution_count": 10,
   "metadata": {},
   "outputs": [],
   "source": [
    "train_id_new=train_id[['TransactionID','id_01']]"
   ]
  },
  {
   "cell_type": "code",
   "execution_count": 11,
   "metadata": {},
   "outputs": [
    {
     "name": "stdout",
     "output_type": "stream",
     "text": [
      "   TransactionID  id_01\n",
      "0        2987004    0.0\n",
      "1        2987008   -5.0\n",
      "2        2987010   -5.0\n",
      "3        2987011   -5.0\n",
      "4        2987016    0.0\n"
     ]
    }
   ],
   "source": [
    "print(train_id_new.head())"
   ]
  },
  {
   "cell_type": "markdown",
   "metadata": {},
   "source": [
    "Now we can join the 2 train datasets"
   ]
  },
  {
   "cell_type": "code",
   "execution_count": 12,
   "metadata": {},
   "outputs": [],
   "source": [
    "train = pd.merge(train_trans_new,train_id_new,on='TransactionID')"
   ]
  },
  {
   "cell_type": "code",
   "execution_count": 13,
   "metadata": {},
   "outputs": [
    {
     "name": "stdout",
     "output_type": "stream",
     "text": [
      "(144233, 11)\n",
      "   TransactionID  isFraud  TransactionDT  TransactionAmt ProductCD  card1  \\\n",
      "0        2987004        0          86506          50.000         H   4497   \n",
      "1        2987008        0          86535          15.000         H   2803   \n",
      "2        2987010        0          86549          75.887         C  16496   \n",
      "3        2987011        0          86555          16.495         C   4461   \n",
      "4        2987016        0          86620          30.000         H   1790   \n",
      "\n",
      "   card2  card3       card4  card5  id_01  \n",
      "0  514.0  150.0  mastercard  102.0    0.0  \n",
      "1  100.0  150.0        visa  226.0   -5.0  \n",
      "2  352.0  117.0  mastercard  134.0   -5.0  \n",
      "3  375.0  185.0  mastercard  224.0   -5.0  \n",
      "4  555.0  150.0        visa  226.0    0.0  \n"
     ]
    }
   ],
   "source": [
    "print(train.shape)\n",
    "print(train.head())"
   ]
  },
  {
   "cell_type": "markdown",
   "metadata": {},
   "source": [
    "Visualize the data- Scatter plot"
   ]
  },
  {
   "cell_type": "code",
   "execution_count": 14,
   "metadata": {},
   "outputs": [],
   "source": [
    "frauds = train.loc[train['isFraud'] == 1]\n",
    "non_frauds = train.loc[train['isFraud'] == 0]"
   ]
  },
  {
   "cell_type": "code",
   "execution_count": 15,
   "metadata": {},
   "outputs": [
    {
     "data": {
      "text/plain": [
       "<Figure size 1152x648 with 0 Axes>"
      ]
     },
     "metadata": {},
     "output_type": "display_data"
    },
    {
     "data": {
      "image/png": "[encoded data removed]",
      "text/plain": [
       "<Figure size 432x288 with 1 Axes>"
      ]
     },
     "metadata": {
      "needs_background": "light"
     },
     "output_type": "display_data"
    }
   ],
   "source": [
    "plt.figure(figsize=(16,9))\n",
    "ax = frauds.plot.scatter(x='TransactionDT',y='TransactionAmt',color='red',label='Fraud')\n",
    "non_frauds.plot.scatter(x='TransactionDT',y='TransactionAmt',color='skyblue',label='Normal',ax=ax)\n",
    "plt.legend(loc='best')\n",
    "plt.show()"
   ]
  },
  {
   "cell_type": "markdown",
   "metadata": {},
   "source": [
    "Visualize the data- bar chart\n",
    "Relationship between frauds and credit card provider"
   ]
  },
  {
   "cell_type": "code",
   "execution_count": 16,
   "metadata": {},
   "outputs": [
    {
     "data": {
      "text/plain": [
       "<matplotlib.axes._subplots.AxesSubplot at 0x1d7031ea748>"
      ]
     },
     "execution_count": 16,
     "metadata": {},
     "output_type": "execute_result"
    },
    {
     "data": {
      "image/png": "[encoded data removed]",
      "text/plain": [
       "<Figure size 432x288 with 1 Axes>"
      ]
     },
     "metadata": {
      "needs_background": "light"
     },
     "output_type": "display_data"
    }
   ],
   "source": [
    "bar_chart= train[[\"TransactionAmt\",\"card4\"]]\n",
    "bar_chart.groupby(\"card4\").sum().sort_values(\"TransactionAmt\").plot(kind=\"barh\")"
   ]
  },
  {
   "cell_type": "code",
   "execution_count": 17,
   "metadata": {},
   "outputs": [
    {
     "data": {
      "text/plain": [
       "<matplotlib.axes._subplots.AxesSubplot at 0x1d7042e93c8>"
      ]
     },
     "execution_count": 17,
     "metadata": {},
     "output_type": "execute_result"
    },
    {
     "data": {
      "image/png": "[encoded data removed]",
      "text/plain": [
       "<Figure size 432x288 with 1 Axes>"
      ]
     },
     "metadata": {
      "needs_background": "light"
     },
     "output_type": "display_data"
    }
   ],
   "source": [
    "bar_chart_frauds= frauds[[\"TransactionAmt\",\"card4\"]]\n",
    "bar_chart_frauds.groupby(\"card4\").sum().sort_values(\"TransactionAmt\").plot(kind=\"barh\")"
   ]
  },
  {
   "cell_type": "code",
   "execution_count": 18,
   "metadata": {},
   "outputs": [
    {
     "data": {
      "text/plain": [
       "<matplotlib.axes._subplots.AxesSubplot at 0x1d70435e940>"
      ]
     },
     "execution_count": 18,
     "metadata": {},
     "output_type": "execute_result"
    },
    {
     "data": {
      "image/png": "[encoded data removed]",
      "text/plain": [
       "<Figure size 432x288 with 1 Axes>"
      ]
     },
     "metadata": {
      "needs_background": "light"
     },
     "output_type": "display_data"
    }
   ],
   "source": [
    "bar_chart_non_frauds= non_frauds[[\"TransactionAmt\",\"card4\"]]\n",
    "bar_chart_non_frauds.groupby(\"card4\").sum().sort_values(\"TransactionAmt\").plot(kind=\"barh\")"
   ]
  },
  {
   "cell_type": "code",
   "execution_count": 19,
   "metadata": {},
   "outputs": [
    {
     "name": "stdout",
     "output_type": "stream",
     "text": [
      "   TransactionID  isFraud  TransactionDT  TransactionAmt ProductCD  card1  \\\n",
      "0        2987004        0          86506          50.000         H   4497   \n",
      "1        2987008        0          86535          15.000         H   2803   \n",
      "2        2987010        0          86549          75.887         C  16496   \n",
      "3        2987011        0          86555          16.495         C   4461   \n",
      "4        2987016        0          86620          30.000         H   1790   \n",
      "\n",
      "   card2  card3       card4  card5  id_01  \n",
      "0  514.0  150.0  mastercard  102.0    0.0  \n",
      "1  100.0  150.0        visa  226.0   -5.0  \n",
      "2  352.0  117.0  mastercard  134.0   -5.0  \n",
      "3  375.0  185.0  mastercard  224.0   -5.0  \n",
      "4  555.0  150.0        visa  226.0    0.0  \n"
     ]
    }
   ],
   "source": [
    "print(train.head())"
   ]
  },
  {
   "cell_type": "markdown",
   "metadata": {},
   "source": [
    "'ProductCD' and 'card4' columns are categorical. We will create dummy variables for cateogorical features using Pandas get_dummies."
   ]
  },
  {
   "cell_type": "code",
   "execution_count": 20,
   "metadata": {},
   "outputs": [],
   "source": [
    "ProductCD_dummy = pd.get_dummies(train['ProductCD'],prefix='ProductCD')\n",
    "card4_dummy = pd.get_dummies(train['card4'],prefix='card4')"
   ]
  },
  {
   "cell_type": "markdown",
   "metadata": {},
   "source": [
    "Dropping the first variable in each features to prevent perfect multi-collinearity"
   ]
  },
  {
   "cell_type": "code",
   "execution_count": 21,
   "metadata": {},
   "outputs": [
    {
     "name": "stdout",
     "output_type": "stream",
     "text": [
      "   ProductCD_C  ProductCD_H  ProductCD_R  ProductCD_S\n",
      "0            0            1            0            0\n",
      "1            0            1            0            0\n",
      "2            1            0            0            0\n",
      "3            1            0            0            0\n",
      "4            0            1            0            0\n",
      "   card4_american express  card4_discover  card4_mastercard  card4_visa\n",
      "0                       0               0                 1           0\n",
      "1                       0               0                 0           1\n",
      "2                       0               0                 1           0\n",
      "3                       0               0                 1           0\n",
      "4                       0               0                 0           1\n"
     ]
    }
   ],
   "source": [
    "print(ProductCD_dummy.head())\n",
    "print(card4_dummy.head())"
   ]
  },
  {
   "cell_type": "markdown",
   "metadata": {},
   "source": [
    "Dropping the first variable in each features to prevent perfect multi-collinearity ('ProductCD_C', 'card4_american express')"
   ]
  },
  {
   "cell_type": "code",
   "execution_count": 22,
   "metadata": {},
   "outputs": [],
   "source": [
    "ProductCD_dummy = ProductCD_dummy.drop('ProductCD_C',axis=1)\n",
    "card4_dummy = card4_dummy.drop('card4_american express',axis=1)"
   ]
  },
  {
   "cell_type": "markdown",
   "metadata": {},
   "source": [
    "Drop 'ProductCD' and 'card4' replace features with the dummies above"
   ]
  },
  {
   "cell_type": "code",
   "execution_count": 23,
   "metadata": {},
   "outputs": [],
   "source": [
    "train=train.drop(['ProductCD','card4'],axis=1)"
   ]
  },
  {
   "cell_type": "markdown",
   "metadata": {},
   "source": [
    "Join new create features to train data frame"
   ]
  },
  {
   "cell_type": "code",
   "execution_count": 24,
   "metadata": {},
   "outputs": [],
   "source": [
    "train=train.join(ProductCD_dummy)\n",
    "train=train.join(card4_dummy)"
   ]
  },
  {
   "cell_type": "markdown",
   "metadata": {},
   "source": [
    "Remove 'TransactionID'"
   ]
  },
  {
   "cell_type": "code",
   "execution_count": 25,
   "metadata": {},
   "outputs": [],
   "source": [
    "train=train.drop('TransactionID',axis=1)"
   ]
  },
  {
   "cell_type": "markdown",
   "metadata": {},
   "source": [
    "remove NAN records"
   ]
  },
  {
   "cell_type": "code",
   "execution_count": 26,
   "metadata": {},
   "outputs": [],
   "source": [
    "train_new = train.dropna()"
   ]
  },
  {
   "cell_type": "code",
   "execution_count": 27,
   "metadata": {},
   "outputs": [
    {
     "name": "stdout",
     "output_type": "stream",
     "text": [
      "   isFraud  TransactionDT  TransactionAmt  card1  card2  card3  card5  id_01  \\\n",
      "0        0          86506          50.000   4497  514.0  150.0  102.0    0.0   \n",
      "1        0          86535          15.000   2803  100.0  150.0  226.0   -5.0   \n",
      "2        0          86549          75.887  16496  352.0  117.0  134.0   -5.0   \n",
      "3        0          86555          16.495   4461  375.0  185.0  224.0   -5.0   \n",
      "4        0          86620          30.000   1790  555.0  150.0  226.0    0.0   \n",
      "\n",
      "   ProductCD_H  ProductCD_R  ProductCD_S  card4_discover  card4_mastercard  \\\n",
      "0            1            0            0               0                 1   \n",
      "1            1            0            0               0                 0   \n",
      "2            0            0            0               0                 1   \n",
      "3            0            0            0               0                 1   \n",
      "4            1            0            0               0                 0   \n",
      "\n",
      "   card4_visa  \n",
      "0           0  \n",
      "1           1  \n",
      "2           0  \n",
      "3           0  \n",
      "4           1  \n"
     ]
    }
   ],
   "source": [
    "print(train_new.head())"
   ]
  },
  {
   "cell_type": "markdown",
   "metadata": {},
   "source": [
    "Create x-train and y_train"
   ]
  },
  {
   "cell_type": "code",
   "execution_count": 28,
   "metadata": {},
   "outputs": [],
   "source": [
    "x= train_new.drop('isFraud',axis=1)\n",
    "y= train_new['isFraud']"
   ]
  },
  {
   "cell_type": "markdown",
   "metadata": {},
   "source": [
    "Prep train/test dataset"
   ]
  },
  {
   "cell_type": "code",
   "execution_count": 29,
   "metadata": {},
   "outputs": [],
   "source": [
    "from sklearn.model_selection import train_test_split\n",
    "x_train, x_test, y_train, y_test = train_test_split(x, y, test_size=0.3)"
   ]
  },
  {
   "cell_type": "markdown",
   "metadata": {},
   "source": [
    "Creat Logistics Regression with sklearn"
   ]
  },
  {
   "cell_type": "code",
   "execution_count": 30,
   "metadata": {},
   "outputs": [],
   "source": [
    "from sklearn import linear_model"
   ]
  },
  {
   "cell_type": "code",
   "execution_count": 31,
   "metadata": {},
   "outputs": [
    {
     "name": "stderr",
     "output_type": "stream",
     "text": [
      "C:\\Users\\Yan family\\Anaconda3\\lib\\site-packages\\sklearn\\linear_model\\logistic.py:432: FutureWarning: Default solver will be changed to 'lbfgs' in 0.22. Specify a solver to silence this warning.\n",
      "  FutureWarning)\n"
     ]
    },
    {
     "data": {
      "text/plain": [
       "LogisticRegression(C=100000.0, class_weight=None, dual=False,\n",
       "                   fit_intercept=True, intercept_scaling=1, l1_ratio=None,\n",
       "                   max_iter=100, multi_class='warn', n_jobs=None, penalty='l2',\n",
       "                   random_state=None, solver='warn', tol=0.0001, verbose=0,\n",
       "                   warm_start=False)"
      ]
     },
     "execution_count": 31,
     "metadata": {},
     "output_type": "execute_result"
    }
   ],
   "source": [
    "logistic = linear_model.LogisticRegression(C=1e5)\n",
    "logistic.fit(x_train,y_train)"
   ]
  },
  {
   "cell_type": "markdown",
   "metadata": {},
   "source": [
    "Print score"
   ]
  },
  {
   "cell_type": "code",
   "execution_count": 32,
   "metadata": {},
   "outputs": [
    {
     "name": "stdout",
     "output_type": "stream",
     "text": [
      "Score 0.9229259631334252\n"
     ]
    }
   ],
   "source": [
    "print('Score',logistic.score(x_test,y_test))"
   ]
  }
 ],
 "metadata": {
  "kernelspec": {
   "display_name": "Python 3",
   "language": "python",
   "name": "python3"
  },
  "language_info": {
   "codemirror_mode": {
    "name": "ipython",
    "version": 3
   },
   "file_extension": ".py",
   "mimetype": "text/x-python",
   "name": "python",
   "nbconvert_exporter": "python",
   "pygments_lexer": "ipython3",
   "version": "3.7.3"
  }
 },
 "nbformat": 4,
 "nbformat_minor": 2
}
